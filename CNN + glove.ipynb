{
 "cells": [
  {
   "cell_type": "code",
   "execution_count": 1,
   "metadata": {},
   "outputs": [],
   "source": [
    "import json\n",
    "import emoji\n",
    "import sys\n",
    "import re\n",
    "import pandas as pd\n",
    "import tensorflow as tf\n",
    "import numpy as np\n",
    "import matplotlib.pyplot as plt\n",
    "from tensorflow.keras.preprocessing.text import Tokenizer\n",
    "from tensorflow.keras.preprocessing.sequence import pad_sequences"
   ]
  },
  {
   "cell_type": "code",
   "execution_count": 2,
   "metadata": {},
   "outputs": [],
   "source": [
    "embedding_dim = 200\n",
    "max_length = 120\n",
    "filters = 64\n",
    "kernel_size = 3\n",
    "trunc_type='post'\n",
    "padding_type='post'\n",
    "oov_tok = \"<OOV>\"\n",
    "training_portion = .8"
   ]
  },
  {
   "cell_type": "code",
   "execution_count": 3,
   "metadata": {},
   "outputs": [],
   "source": [
    "emoji_list = emoji.UNICODE_EMOJI.keys()\n"
   ]
  },
  {
   "cell_type": "code",
   "execution_count": 4,
   "metadata": {},
   "outputs": [
    {
     "name": "stdout",
     "output_type": "stream",
     "text": [
      "16907\n",
      "16907\n"
     ]
    }
   ],
   "source": [
    "data = pd.read_csv(\"Twitter_Data.csv\")\n",
    "labels = data['Annotation']\n",
    "texts = data['Tweets']\n",
    "print(len(texts))\n",
    "print(len(labels))"
   ]
  },
  {
   "cell_type": "code",
   "execution_count": 5,
   "metadata": {},
   "outputs": [],
   "source": [
    "FLAGS = re.MULTILINE | re.DOTALL\n",
    "\n",
    "def allcaps(text):\n",
    "    text = text.group()\n",
    "    return text.lower() + \" <allcaps>\"\n",
    "\n",
    "\n",
    "def preprocess(text):\n",
    "    def re_sub(pattern, repl):\n",
    "        return re.sub(pattern, repl, text, flags=FLAGS)\n",
    "    \n",
    "    text = text.replace(\"#\",\"<hashtag> \")\n",
    "    \n",
    "    no_emoji = ''\n",
    "    for char in text:\n",
    "        if char not in emoji_list:\n",
    "            no_emoji = no_emoji + char\n",
    "        else:\n",
    "            no_emoji = no_emoji + '<' + emoji.demojize(char) + '> '\n",
    "    text = no_emoji\n",
    "    \n",
    "    text = re_sub(r\"@\\w+\",\"<user>\")\n",
    "    text = re_sub(r\"https?:\\/\\/\\S+\\b|www\\.(\\w+\\.)+\\S*\", \"<url>\")\n",
    "    text = re_sub(r\"/\",\" / \")\n",
    "    text = re_sub(r\"([!?.]){2,}\", r\"\\1 <repeat>\")\n",
    "    text = re_sub(r\"\\b(\\S*?)(.)\\2{2,}\\b\", r\"\\1\\2 <elong>\")\n",
    "\n",
    "    text = re_sub(r\"([A-Z]){2,}\", allcaps)\n",
    "    \n",
    "    punctuations = '''!()-[]{};:'\"\\,./?@#$%^&*_~0123456789'''\n",
    "    \n",
    "    no_punct = ''\n",
    "    for char in text:\n",
    "        if char not in punctuations:\n",
    "            no_punct = no_punct + char\n",
    "    text = no_punct\n",
    "    text = text.replace(\"  \",\" \")\n",
    "    text = text.replace(\"\\n\",\" \")\n",
    "    return text.lower()\n"
   ]
  },
  {
   "cell_type": "code",
   "execution_count": 6,
   "metadata": {},
   "outputs": [
    {
     "name": "stderr",
     "output_type": "stream",
     "text": [
      "E:\\Programs\\Anaconda\\envs\\tf\\lib\\site-packages\\ipykernel_launcher.py:2: SettingWithCopyWarning: \n",
      "A value is trying to be set on a copy of a slice from a DataFrame\n",
      "\n",
      "See the caveats in the documentation: https://pandas.pydata.org/pandas-docs/stable/user_guide/indexing.html#returning-a-view-versus-a-copy\n",
      "  \n"
     ]
    }
   ],
   "source": [
    "for i in range(0, len(texts)):\n",
    "    texts[i] = preprocess(texts[i])"
   ]
  },
  {
   "cell_type": "code",
   "execution_count": null,
   "metadata": {},
   "outputs": [],
   "source": []
  },
  {
   "cell_type": "code",
   "execution_count": 7,
   "metadata": {},
   "outputs": [
    {
     "name": "stdout",
     "output_type": "stream",
     "text": [
      "<user> <user> you are absolute scum\n"
     ]
    }
   ],
   "source": [
    "print(texts[2213])"
   ]
  },
  {
   "cell_type": "code",
   "execution_count": 8,
   "metadata": {},
   "outputs": [
    {
     "name": "stdout",
     "output_type": "stream",
     "text": [
      "{'sexism', 'racism', 'none'}\n"
     ]
    }
   ],
   "source": [
    "print(set(labels))"
   ]
  },
  {
   "cell_type": "code",
   "execution_count": 9,
   "metadata": {},
   "outputs": [
    {
     "name": "stdout",
     "output_type": "stream",
     "text": [
      "13525\n",
      "13525\n",
      "3382\n",
      "3382\n"
     ]
    }
   ],
   "source": [
    "divide = int(len(data)*training_portion)\n",
    "train_tweets, validation_tweets, train_labels, validation_labels = texts[:divide], texts[divide:], labels[:divide], labels[divide:]\n",
    "print(len(train_tweets))\n",
    "print(len(train_labels))\n",
    "print(len(validation_tweets))\n",
    "print(len(validation_labels))"
   ]
  },
  {
   "cell_type": "code",
   "execution_count": 10,
   "metadata": {},
   "outputs": [
    {
     "name": "stdout",
     "output_type": "stream",
     "text": [
      "15060\n",
      "13\n",
      "120\n",
      "22\n",
      "120\n"
     ]
    }
   ],
   "source": [
    "vocab_size=0\n",
    "tokenizer = Tokenizer(num_words = vocab_size, oov_token = oov_tok)\n",
    "tokenizer.fit_on_texts(train_tweets)\n",
    "word_index = tokenizer.word_index\n",
    "vocab_size=len(word_index)\n",
    "\n",
    "train_sequences = tokenizer.texts_to_sequences(train_tweets)\n",
    "train_padded = pad_sequences(train_sequences, padding=padding_type, maxlen=max_length, truncating=trunc_type)\n",
    "\n",
    "print(len(word_index))\n",
    "print(len(train_sequences[0]))\n",
    "print(len(train_padded[0]))\n",
    "\n",
    "print(len(train_sequences[1]))\n",
    "print(len(train_padded[1]))"
   ]
  },
  {
   "cell_type": "code",
   "execution_count": 11,
   "metadata": {},
   "outputs": [
    {
     "name": "stdout",
     "output_type": "stream",
     "text": [
      "3382\n",
      "(3382, 120)\n"
     ]
    }
   ],
   "source": [
    "validation_sequences = tokenizer.texts_to_sequences(validation_tweets)\n",
    "validation_padded = pad_sequences(validation_sequences, padding=padding_type, maxlen=max_length, truncating=trunc_type)\n",
    "\n",
    "print(len(validation_sequences))\n",
    "print(validation_padded.shape)"
   ]
  },
  {
   "cell_type": "code",
   "execution_count": 12,
   "metadata": {},
   "outputs": [],
   "source": [
    "label_tokenizer = Tokenizer()\n",
    "label_tokenizer.fit_on_texts(labels)\n",
    "\n",
    "training_label_seq = np.array(label_tokenizer.texts_to_sequences(train_labels))\n",
    "validation_label_seq = np.array(label_tokenizer.texts_to_sequences(validation_labels))\n",
    "\n",
    "padded_validation_label_seq = pad_sequences(validation_label_seq, padding=padding_type, maxlen=1, truncating=trunc_type)\n",
    "train_lables_padded = pad_sequences(training_label_seq, padding=padding_type, maxlen=1, truncating=trunc_type)\n",
    "\n",
    "category_word_index = label_tokenizer.word_index"
   ]
  },
  {
   "cell_type": "code",
   "execution_count": 13,
   "metadata": {},
   "outputs": [
    {
     "name": "stdout",
     "output_type": "stream",
     "text": [
      "(13525, 120)\n",
      "(13525, 1)\n"
     ]
    }
   ],
   "source": [
    "print(train_padded.shape)\n",
    "print(train_lables_padded.shape)"
   ]
  },
  {
   "cell_type": "code",
   "execution_count": 14,
   "metadata": {},
   "outputs": [],
   "source": [
    "embeddings_index = {};\n",
    "with open('glove.6B.200d.txt', errors='ignore') as f:\n",
    "    for line in f:\n",
    "        values = line.split()\n",
    "        word = values[0]\n",
    "        coefs = np.asarray(values[1:])#, dtype='float32')\n",
    "        embeddings_index[word] = coefs\n",
    "\n",
    "embeddings_matrix = np.zeros((vocab_size+1, embedding_dim))\n",
    "for word, i in word_index.items():\n",
    "    embedding_vector = embeddings_index.get(word)\n",
    "    if embedding_vector is not None:\n",
    "        embeddings_matrix[i] = embedding_vector"
   ]
  },
  {
   "cell_type": "code",
   "execution_count": 15,
   "metadata": {},
   "outputs": [],
   "source": [
    "def plot_graphs(history, string):\n",
    "\n",
    "  plt.plot(history.history[string])\n",
    "  plt.plot(history.history['val_'+string])\n",
    "  plt.xlabel(\"Epochs\")\n",
    "  plt.ylabel(string)\n",
    "  plt.legend([string, 'val_'+string])\n",
    "  plt.show()"
   ]
  },
  {
   "cell_type": "code",
   "execution_count": 14,
   "metadata": {},
   "outputs": [
    {
     "name": "stdout",
     "output_type": "stream",
     "text": [
      "Train on 13525 samples, validate on 3382 samples\n",
      "Epoch 1/10\n",
      "13525/13525 - 20s - loss: 0.6570 - acc: 0.7316 - val_loss: 0.5049 - val_acc: 0.7995\n",
      "Epoch 2/10\n",
      "13525/13525 - 12s - loss: 0.4669 - acc: 0.8055 - val_loss: 0.4570 - val_acc: 0.8125\n",
      "Epoch 3/10\n",
      "13525/13525 - 12s - loss: 0.4278 - acc: 0.8253 - val_loss: 0.4449 - val_acc: 0.8164\n",
      "Epoch 4/10\n",
      "13525/13525 - 12s - loss: 0.4028 - acc: 0.8343 - val_loss: 0.4326 - val_acc: 0.8241\n",
      "Epoch 5/10\n",
      "13525/13525 - 12s - loss: 0.3762 - acc: 0.8450 - val_loss: 0.4246 - val_acc: 0.8288\n",
      "Epoch 6/10\n",
      "13525/13525 - 13s - loss: 0.3540 - acc: 0.8535 - val_loss: 0.4293 - val_acc: 0.8214\n",
      "Epoch 7/10\n",
      "13525/13525 - 12s - loss: 0.3339 - acc: 0.8652 - val_loss: 0.4301 - val_acc: 0.8279\n",
      "Epoch 8/10\n",
      "13525/13525 - 13s - loss: 0.3153 - acc: 0.8699 - val_loss: 0.4419 - val_acc: 0.8267\n",
      "Epoch 9/10\n",
      "13525/13525 - 13s - loss: 0.2979 - acc: 0.8807 - val_loss: 0.4401 - val_acc: 0.8241\n",
      "Epoch 10/10\n",
      "13525/13525 - 14s - loss: 0.2812 - acc: 0.8873 - val_loss: 0.4808 - val_acc: 0.8261\n"
     ]
    },
    {
     "data": {
      "image/png": "[encoded data removed]",
      "text/plain": [
       "<Figure size 432x288 with 1 Axes>"
      ]
     },
     "metadata": {
      "needs_background": "light"
     },
     "output_type": "display_data"
    },
    {
     "data": {
      "image/png": "[encoded data removed]",
      "text/plain": [
       "<Figure size 432x288 with 1 Axes>"
      ]
     },
     "metadata": {
      "needs_background": "light"
     },
     "output_type": "display_data"
    }
   ],
   "source": [
    "model = tf.keras.Sequential([\n",
    "    tf.keras.layers.Embedding(vocab_size+1, embedding_dim, input_length = max_length, weights=[embeddings_matrix], trainable=False),    \n",
    "    tf.keras.layers.Dropout(0.2),\n",
    "    tf.keras.layers.Conv1D(filters, kernel_size, padding='valid', activation='relu', strides=1),\n",
    "    tf.keras.layers.MaxPooling1D(pool_size=2),\n",
    "    tf.keras.layers.GlobalAveragePooling1D(),\n",
    "    tf.keras.layers.Dense(16, activation = 'sigmoid'),\n",
    "    tf.keras.layers.Dense(4, activation = 'softmax')\n",
    "])\n",
    "\n",
    "model.compile(loss = 'sparse_categorical_crossentropy', optimizer = tf.keras.optimizers.Adam(lr=0.005), metrics=['acc'])\n",
    "# model.summary()\n",
    "#adam(lr=.001>.0006)\n",
    "num_epochs = 10\n",
    "history = model.fit(train_padded, train_lables_padded, epochs = num_epochs, validation_data=(validation_padded, padded_validation_label_seq), verbose = 2)\n",
    "\n",
    "plot_graphs(history, \"acc\")\n",
    "plot_graphs(history, \"loss\")"
   ]
  },
  {
   "cell_type": "code",
   "execution_count": 15,
   "metadata": {},
   "outputs": [
    {
     "name": "stdout",
     "output_type": "stream",
     "text": [
      "Train on 13525 samples, validate on 3382 samples\n",
      "Epoch 1/10\n",
      "13525/13525 - 29s - loss: 0.5742 - acc: 0.7627 - val_loss: 0.4847 - val_acc: 0.8013\n",
      "Epoch 2/10\n",
      "13525/13525 - 24s - loss: 0.4583 - acc: 0.8100 - val_loss: 0.4574 - val_acc: 0.8093\n",
      "Epoch 3/10\n",
      "13525/13525 - 24s - loss: 0.4295 - acc: 0.8205 - val_loss: 0.4408 - val_acc: 0.8196\n",
      "Epoch 4/10\n",
      "13525/13525 - 24s - loss: 0.4045 - acc: 0.8340 - val_loss: 0.4347 - val_acc: 0.8196\n",
      "Epoch 5/10\n",
      "13525/13525 - 24s - loss: 0.3855 - acc: 0.8416 - val_loss: 0.4322 - val_acc: 0.8214\n",
      "Epoch 6/10\n",
      "13525/13525 - 24s - loss: 0.3629 - acc: 0.8494 - val_loss: 0.4539 - val_acc: 0.8108\n",
      "Epoch 7/10\n",
      "13525/13525 - 24s - loss: 0.3448 - acc: 0.8578 - val_loss: 0.4390 - val_acc: 0.8297\n",
      "Epoch 8/10\n",
      "13525/13525 - 19s - loss: 0.3303 - acc: 0.8667 - val_loss: 0.4398 - val_acc: 0.8285\n",
      "Epoch 9/10\n",
      "13525/13525 - 20s - loss: 0.3054 - acc: 0.8762 - val_loss: 0.4392 - val_acc: 0.8285\n",
      "Epoch 10/10\n",
      "13525/13525 - 21s - loss: 0.2868 - acc: 0.8830 - val_loss: 0.4481 - val_acc: 0.8276\n"
     ]
    },
    {
     "data": {
      "image/png": "[encoded data removed]",
      "text/plain": [
       "<Figure size 432x288 with 1 Axes>"
      ]
     },
     "metadata": {
      "needs_background": "light"
     },
     "output_type": "display_data"
    },
    {
     "data": {
      "image/png": "[encoded data removed]",
      "text/plain": [
       "<Figure size 432x288 with 1 Axes>"
      ]
     },
     "metadata": {
      "needs_background": "light"
     },
     "output_type": "display_data"
    }
   ],
   "source": [
    "model = tf.keras.Sequential([\n",
    "    tf.keras.layers.Embedding(vocab_size+1, embedding_dim, input_length = max_length, weights=[embeddings_matrix], trainable=False),    \n",
    "    tf.keras.layers.Dropout(0.2),\n",
    "    tf.keras.layers.Conv1D(filters, kernel_size, padding='valid', activation='relu', strides=1),\n",
    "    tf.keras.layers.MaxPooling1D(pool_size=2),\n",
    "    tf.keras.layers.GlobalAveragePooling1D(),\n",
    "    tf.keras.layers.Dense(16, activation = 'sigmoid'),\n",
    "    tf.keras.layers.Dense(4, activation = 'softmax')\n",
    "])\n",
    "\n",
    "model.compile(loss = 'sparse_categorical_crossentropy', optimizer = tf.keras.optimizers.Adam(lr=0.005), metrics=['acc'])\n",
    "# model.summary()\n",
    "#adam(lr=.001>.0006)\n",
    "num_epochs = 10\n",
    "history = model.fit(train_padded, train_lables_padded, epochs = num_epochs, validation_data=(validation_padded, padded_validation_label_seq), verbose = 2)\n",
    "\n",
    "plot_graphs(history, \"acc\")\n",
    "plot_graphs(history, \"loss\")"
   ]
  },
  {
   "cell_type": "code",
   "execution_count": null,
   "metadata": {},
   "outputs": [],
   "source": []
  }
 ],
 "metadata": {
  "kernelspec": {
   "display_name": "Python 3",
   "language": "python",
   "name": "python3"
  },
  "language_info": {
   "codemirror_mode": {
    "name": "ipython",
    "version": 3
   },
   "file_extension": ".py",
   "mimetype": "text/x-python",
   "name": "python",
   "nbconvert_exporter": "python",
   "pygments_lexer": "ipython3",
   "version": "3.7.7"
  }
 },
 "nbformat": 4,
 "nbformat_minor": 2
}
