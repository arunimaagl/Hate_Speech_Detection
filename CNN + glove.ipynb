{
 "cells": [
  {
   "cell_type": "code",
   "execution_count": 1,
   "metadata": {},
   "outputs": [],
   "source": [
    "import json\n",
    "import emoji\n",
    "import sys\n",
    "import re\n",
    "import pandas as pd\n",
    "import tensorflow as tf\n",
    "import numpy as np\n",
    "import matplotlib.pyplot as plt\n",
    "from tensorflow.keras.preprocessing.text import Tokenizer\n",
    "from tensorflow.keras.preprocessing.sequence import pad_sequences\n",
    "from sklearn.model_selection import train_test_split"
   ]
  },
  {
   "cell_type": "code",
   "execution_count": 2,
   "metadata": {},
   "outputs": [],
   "source": [
    "embedding_dim = 100\n",
    "max_length = 120\n",
    "filters = 64\n",
    "kernel_size = 3\n",
    "trunc_type='post'\n",
    "padding_type='post'\n",
    "oov_tok = \"<OOV>\"\n",
    "training_portion = .8"
   ]
  },
  {
   "cell_type": "code",
   "execution_count": 3,
   "metadata": {},
   "outputs": [],
   "source": [
    "emoji_list = emoji.UNICODE_EMOJI.keys()\n"
   ]
  },
  {
   "cell_type": "code",
   "execution_count": 5,
   "metadata": {},
   "outputs": [],
   "source": [
    "with open('racism.json', 'r') as file:\n",
    "    data_racism = pd.read_json(file,lines=True)\n",
    "with open('neither.json', 'r') as file:\n",
    "    data_neither = pd.read_json(file,lines=True)\n",
    "with open('sexism.json', 'r') as file:\n",
    "    data_sexism = pd.read_json(file,lines=True)"
   ]
  },
  {
   "cell_type": "code",
   "execution_count": 6,
   "metadata": {},
   "outputs": [
    {
     "name": "stdout",
     "output_type": "stream",
     "text": [
      "16907\n"
     ]
    }
   ],
   "source": [
    "labels_read = []\n",
    "text_read = []\n",
    "labels_read = list(data_racism['Annotation'])\n",
    "text_read = list(data_racism['text'])\n",
    "labels_read.extend(list(data_neither['Annotation']))\n",
    "labels_read.extend(list(data_sexism['Annotation']))\n",
    "text_read.extend(list(data_neither['text']))\n",
    "text_read.extend(list(data_sexism['text']))\n",
    "\n",
    "print(len(text_read))"
   ]
  },
  {
   "cell_type": "code",
   "execution_count": 7,
   "metadata": {},
   "outputs": [
    {
     "name": "stdout",
     "output_type": "stream",
     "text": [
      "<class 'str'>\n",
      "16907\n",
      "16907\n"
     ]
    }
   ],
   "source": [
    "labels = list()\n",
    "texts = list()\n",
    "i = 0\n",
    "for i in range(0,len(text_read)):\n",
    "    labels.append(labels_read[i])\n",
    "    texts.append(text_read[i])\n",
    "print(type(text_read[i]))\n",
    "print(len(texts))\n",
    "print(len(labels))"
   ]
  },
  {
   "cell_type": "code",
   "execution_count": 8,
   "metadata": {},
   "outputs": [],
   "source": [
    "FLAGS = re.MULTILINE | re.DOTALL\n",
    "\n",
    "def allcaps(text):\n",
    "    text = text.group()\n",
    "    return text.lower() + \" <allcaps>\"\n",
    "\n",
    "\n",
    "def preprocess(text):\n",
    "    def re_sub(pattern, repl):\n",
    "        return re.sub(pattern, repl, text, flags=FLAGS)\n",
    "    \n",
    "    text = text.replace(\"#\",\"<hashtag> \")\n",
    "    \n",
    "    no_punct = ''\n",
    "    for char in text:\n",
    "        if char not in emoji_list:\n",
    "            no_punct = no_punct + char\n",
    "        else:\n",
    "            no_punct = no_punct + '<' + emoji.demojize(char) + '> '\n",
    "    text = no_punct \n",
    "    \n",
    "    text = re_sub(r\"https?:\\/\\/\\S+\\b|www\\.(\\w+\\.)+\\S*\", \"<url>\")\n",
    "    text = re_sub(r\"/\",\" / \")\n",
    "    text = re_sub(r\"([!?.]){2,}\", r\"\\1 <repeat>\")\n",
    "    text = re_sub(r\"\\b(\\S*?)(.)\\2{2,}\\b\", r\"\\1\\2 <elong>\")\n",
    "\n",
    "    text = re_sub(r\"([A-Z]){2,}\", allcaps)\n",
    "    \n",
    "    punctuations = '''!()-[]{};:'\"\\,./?@#$%^&*_~0123456789'''\n",
    "    \n",
    "    no_punct = ''\n",
    "    for char in text:\n",
    "        if char not in punctuations:\n",
    "            no_punct = no_punct + char\n",
    "    text = no_punct\n",
    "\n",
    "    return text.lower()\n"
   ]
  },
  {
   "cell_type": "code",
   "execution_count": 9,
   "metadata": {},
   "outputs": [],
   "source": [
    "for i in range(0, len(texts)):\n",
    "    texts[i] = preprocess(texts[i])"
   ]
  },
  {
   "cell_type": "code",
   "execution_count": null,
   "metadata": {},
   "outputs": [],
   "source": [
    "print(preprocess('hello hello arunima randi ki bachchi chutiya saali 😄😄'))"
   ]
  },
  {
   "cell_type": "code",
   "execution_count": null,
   "metadata": {},
   "outputs": [],
   "source": [
    "print(texts[2213])"
   ]
  },
  {
   "cell_type": "code",
   "execution_count": null,
   "metadata": {},
   "outputs": [],
   "source": [
    "print(set(labels))"
   ]
  },
  {
   "cell_type": "code",
   "execution_count": 10,
   "metadata": {},
   "outputs": [
    {
     "name": "stdout",
     "output_type": "stream",
     "text": [
      "13525\n",
      "13525\n",
      "3382\n",
      "3382\n",
      "['racism', 'none', 'none', 'none', 'racism', 'sexism', 'sexism', 'none', 'none', 'racism']\n"
     ]
    }
   ],
   "source": [
    "train_tweets, validation_tweets, train_labels, validation_labels = train_test_split(texts, labels, test_size=0.2)\n",
    "print(len(train_tweets))\n",
    "print(len(train_labels))\n",
    "print(len(validation_tweets))\n",
    "print(len(validation_labels))\n",
    "print(train_labels[:10])"
   ]
  },
  {
   "cell_type": "code",
   "execution_count": 11,
   "metadata": {},
   "outputs": [
    {
     "name": "stdout",
     "output_type": "stream",
     "text": [
      "20422\n",
      "23\n",
      "120\n",
      "4\n",
      "120\n"
     ]
    }
   ],
   "source": [
    "vocab_size=0\n",
    "tokenizer = Tokenizer(num_words = vocab_size, oov_token = oov_tok)\n",
    "tokenizer.fit_on_texts(train_tweets)\n",
    "word_index = tokenizer.word_index\n",
    "vocab_size=len(word_index)\n",
    "\n",
    "train_sequences = tokenizer.texts_to_sequences(train_tweets)\n",
    "train_padded = pad_sequences(train_sequences, padding=padding_type, maxlen=max_length, truncating=trunc_type)\n",
    "\n",
    "print(len(word_index))\n",
    "print(len(train_sequences[0]))\n",
    "print(len(train_padded[0]))\n",
    "\n",
    "print(len(train_sequences[1]))\n",
    "print(len(train_padded[1]))"
   ]
  },
  {
   "cell_type": "code",
   "execution_count": 12,
   "metadata": {},
   "outputs": [
    {
     "name": "stdout",
     "output_type": "stream",
     "text": [
      "3382\n",
      "(3382, 120)\n"
     ]
    }
   ],
   "source": [
    "validation_sequences = tokenizer.texts_to_sequences(validation_tweets)\n",
    "validation_padded = pad_sequences(validation_sequences, padding=padding_type, maxlen=max_length, truncating=trunc_type)\n",
    "\n",
    "print(len(validation_sequences))\n",
    "print(validation_padded.shape)"
   ]
  },
  {
   "cell_type": "code",
   "execution_count": 13,
   "metadata": {},
   "outputs": [],
   "source": [
    "label_tokenizer = Tokenizer()\n",
    "label_tokenizer.fit_on_texts(labels)\n",
    "\n",
    "training_label_seq = np.array(label_tokenizer.texts_to_sequences(train_labels))\n",
    "validation_label_seq = np.array(label_tokenizer.texts_to_sequences(validation_labels))\n",
    "\n",
    "padded_validation_label_seq = pad_sequences(validation_label_seq, padding=padding_type, maxlen=1, truncating=trunc_type)\n",
    "train_lables_padded = pad_sequences(training_label_seq, padding=padding_type, maxlen=1, truncating=trunc_type)\n",
    "\n",
    "category_word_index = label_tokenizer.word_index"
   ]
  },
  {
   "cell_type": "code",
   "execution_count": null,
   "metadata": {},
   "outputs": [],
   "source": [
    "print(train_padded.shape)\n",
    "print(train_lables_padded.shape)"
   ]
  },
  {
   "cell_type": "code",
   "execution_count": 14,
   "metadata": {},
   "outputs": [],
   "source": [
    "embeddings_index = {};\n",
    "with open('glove.6B.100d.txt', errors='ignore') as f:\n",
    "    for line in f:\n",
    "        values = line.split()\n",
    "        word = values[0]\n",
    "        coefs = np.asarray(values[1:])#, dtype='float32')\n",
    "        embeddings_index[word] = coefs\n",
    "\n",
    "embeddings_matrix = np.zeros((vocab_size+1, embedding_dim))\n",
    "for word, i in word_index.items():\n",
    "    embedding_vector = embeddings_index.get(word)\n",
    "    if embedding_vector is not None:\n",
    "        embeddings_matrix[i] = embedding_vector"
   ]
  },
  {
   "cell_type": "code",
   "execution_count": 15,
   "metadata": {},
   "outputs": [],
   "source": [
    "def plot_graphs(history, string):\n",
    "\n",
    "  plt.plot(history.history[string])\n",
    "  plt.plot(history.history['val_'+string])\n",
    "  plt.xlabel(\"Epochs\")\n",
    "  plt.ylabel(string)\n",
    "  plt.legend([string, 'val_'+string])\n",
    "  plt.show()"
   ]
  },
  {
   "cell_type": "code",
   "execution_count": 17,
   "metadata": {},
   "outputs": [
    {
     "name": "stdout",
     "output_type": "stream",
     "text": [
      "Train on 13525 samples, validate on 3382 samples\n",
      "Epoch 1/10\n",
      "13525/13525 - 15s - loss: 0.6772 - acc: 0.7213 - val_loss: 0.5336 - val_acc: 0.7824\n",
      "Epoch 2/10\n",
      "13525/13525 - 11s - loss: 0.5021 - acc: 0.7900 - val_loss: 0.4950 - val_acc: 0.7975\n",
      "Epoch 3/10\n",
      "13525/13525 - 12s - loss: 0.4755 - acc: 0.8056 - val_loss: 0.4729 - val_acc: 0.7992\n",
      "Epoch 4/10\n",
      "13525/13525 - 11s - loss: 0.4580 - acc: 0.8114 - val_loss: 0.4861 - val_acc: 0.7992\n",
      "Epoch 5/10\n",
      "13525/13525 - 12s - loss: 0.4468 - acc: 0.8154 - val_loss: 0.4492 - val_acc: 0.8146\n",
      "Epoch 6/10\n",
      "13525/13525 - 12s - loss: 0.4320 - acc: 0.8231 - val_loss: 0.4457 - val_acc: 0.8214\n",
      "Epoch 7/10\n",
      "13525/13525 - 12s - loss: 0.4240 - acc: 0.8296 - val_loss: 0.4361 - val_acc: 0.8137\n",
      "Epoch 8/10\n",
      "13525/13525 - 11s - loss: 0.4134 - acc: 0.8308 - val_loss: 0.4341 - val_acc: 0.8155\n",
      "Epoch 9/10\n",
      "13525/13525 - 12s - loss: 0.4045 - acc: 0.8328 - val_loss: 0.4424 - val_acc: 0.8185\n",
      "Epoch 10/10\n",
      "13525/13525 - 12s - loss: 0.3982 - acc: 0.8358 - val_loss: 0.4289 - val_acc: 0.8250\n"
     ]
    },
    {
     "data": {
      "image/png": "[encoded data removed]",
      "text/plain": [
       "<Figure size 432x288 with 1 Axes>"
      ]
     },
     "metadata": {
      "needs_background": "light"
     },
     "output_type": "display_data"
    },
    {
     "data": {
      "image/png": "[encoded data removed]",
      "text/plain": [
       "<Figure size 432x288 with 1 Axes>"
      ]
     },
     "metadata": {
      "needs_background": "light"
     },
     "output_type": "display_data"
    }
   ],
   "source": [
    "model = tf.keras.Sequential([\n",
    "    tf.keras.layers.Embedding(vocab_size+1, embedding_dim, input_length = max_length, weights=[embeddings_matrix], trainable=False),    \n",
    "    tf.keras.layers.Dropout(0.2),\n",
    "    tf.keras.layers.Conv1D(filters, kernel_size, padding='valid', activation='relu', strides=1),\n",
    "    tf.keras.layers.MaxPooling1D(pool_size=2),\n",
    "    tf.keras.layers.GlobalAveragePooling1D(),\n",
    "    tf.keras.layers.Dense(16, activation = 'sigmoid'),\n",
    "    tf.keras.layers.Dense(4, activation = 'softmax')\n",
    "])\n",
    "\n",
    "model.compile(loss = 'sparse_categorical_crossentropy', optimizer = tf.keras.optimizers.Adam(lr=0.005), metrics=['acc'])\n",
    "# model.summary()\n",
    "#adam(lr=.001>.0006)\n",
    "num_epochs = 10\n",
    "history = model.fit(train_padded, train_lables_padded, epochs = num_epochs, validation_data=(validation_padded, padded_validation_label_seq), verbose = 2)\n",
    "\n",
    "plot_graphs(history, \"acc\")\n",
    "plot_graphs(history, \"loss\")"
   ]
  }
 ],
 "metadata": {
  "kernelspec": {
   "display_name": "Python 3",
   "language": "python",
   "name": "python3"
  },
  "language_info": {
   "codemirror_mode": {
    "name": "ipython",
    "version": 3
   },
   "file_extension": ".py",
   "mimetype": "text/x-python",
   "name": "python",
   "nbconvert_exporter": "python",
   "pygments_lexer": "ipython3",
   "version": "3.7.7"
  }
 },
 "nbformat": 4,
 "nbformat_minor": 2
}
