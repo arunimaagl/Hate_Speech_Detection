{
 "cells": [
  {
   "cell_type": "code",
   "execution_count": 1,
   "metadata": {},
   "outputs": [],
   "source": [
    "import pandas as pd"
   ]
  },
  {
   "cell_type": "code",
   "execution_count": 2,
   "metadata": {},
   "outputs": [],
   "source": [
    "with open('racism.json', 'r') as file:\n",
    "    data_racism = pd.read_json(file,lines=True)\n",
    "with open('neither.json', 'r') as file:\n",
    "    data_neither = pd.read_json(file,lines=True)\n",
    "with open('sexism.json', 'r') as file:\n",
    "    data_sexism = pd.read_json(file,lines=True)\n",
    "    \n",
    "\n",
    "# labels = list(pd.Series(data['category']).str.lower())\n",
    "# headlines = list(pd.Series(data['headline']).str.lower())\n",
    "\n",
    "# for i in range(0,len(headlines)):\n",
    "#     headline = headlines[i]\n",
    "#     for word in stopwords:\n",
    "#         token = \" \" + word + \" \"\n",
    "#         headline = headline.replace(token, \" \")\n",
    "#     no_punct = ''\n",
    "#     for char in headline:\n",
    "#         if char not in punctuations:\n",
    "#             no_punct = no_punct + char\n",
    "#     headlines[i] = no_punct\n",
    "# print(len(labels))\n",
    "# print(len(headlines))\n",
    "#print(headlines[0:100])"
   ]
  },
  {
   "cell_type": "code",
   "execution_count": 3,
   "metadata": {},
   "outputs": [
    {
     "name": "stdout",
     "output_type": "stream",
     "text": [
      "16907\n"
     ]
    }
   ],
   "source": [
    "labels_read = []\n",
    "text_read = []\n",
    "labels_read = list(data_racism['Annotation'])\n",
    "text_read = list(data_racism['text'])\n",
    "labels_read.extend(list(data_neither['Annotation']))\n",
    "labels_read.extend(list(data_sexism['Annotation']))\n",
    "text_read.extend(list(data_neither['text']))\n",
    "text_read.extend(list(data_sexism['text']))\n",
    "\n",
    "print(len(text_read))"
   ]
  },
  {
   "cell_type": "code",
   "execution_count": 4,
   "metadata": {},
   "outputs": [
    {
     "name": "stdout",
     "output_type": "stream",
     "text": [
      "<class 'str'>\n",
      "16907\n",
      "16907\n"
     ]
    }
   ],
   "source": [
    "labels = list()\n",
    "texts = list()\n",
    "i = 0\n",
    "for i in range(0,len(text_read)):\n",
    "    labels.append(labels_read[i])\n",
    "    texts.append(text_read[i])\n",
    "print(type(text_read[i]))\n",
    "print(len(texts))\n",
    "print(len(labels))"
   ]
  },
  {
   "cell_type": "code",
   "execution_count": 5,
   "metadata": {},
   "outputs": [],
   "source": [
    "dataframe = pd.DataFrame(labels, columns =['Annotation'])\n",
    "dataframe['Tweets'] = texts"
   ]
  },
  {
   "cell_type": "code",
   "execution_count": 6,
   "metadata": {},
   "outputs": [
    {
     "data": {
      "text/html": [
       "<div>\n",
       "<style scoped>\n",
       "    .dataframe tbody tr th:only-of-type {\n",
       "        vertical-align: middle;\n",
       "    }\n",
       "\n",
       "    .dataframe tbody tr th {\n",
       "        vertical-align: top;\n",
       "    }\n",
       "\n",
       "    .dataframe thead th {\n",
       "        text-align: right;\n",
       "    }\n",
       "</style>\n",
       "<table border=\"1\" class=\"dataframe\">\n",
       "  <thead>\n",
       "    <tr style=\"text-align: right;\">\n",
       "      <th></th>\n",
       "      <th>Annotation</th>\n",
       "      <th>Tweets</th>\n",
       "    </tr>\n",
       "  </thead>\n",
       "  <tbody>\n",
       "    <tr>\n",
       "      <th>0</th>\n",
       "      <td>racism</td>\n",
       "      <td>So Drasko just said he was impressed the girls...</td>\n",
       "    </tr>\n",
       "    <tr>\n",
       "      <th>1</th>\n",
       "      <td>racism</td>\n",
       "      <td>Drasko they didn't cook half a bird you idiot ...</td>\n",
       "    </tr>\n",
       "    <tr>\n",
       "      <th>2</th>\n",
       "      <td>racism</td>\n",
       "      <td>Hopefully someone cooks Drasko in the next ep ...</td>\n",
       "    </tr>\n",
       "    <tr>\n",
       "      <th>3</th>\n",
       "      <td>racism</td>\n",
       "      <td>of course you were born in serbia...you're as ...</td>\n",
       "    </tr>\n",
       "    <tr>\n",
       "      <th>4</th>\n",
       "      <td>racism</td>\n",
       "      <td>These girls are the equivalent of the irritati...</td>\n",
       "    </tr>\n",
       "  </tbody>\n",
       "</table>\n",
       "</div>"
      ],
      "text/plain": [
       "  Annotation                                             Tweets\n",
       "0     racism  So Drasko just said he was impressed the girls...\n",
       "1     racism  Drasko they didn't cook half a bird you idiot ...\n",
       "2     racism  Hopefully someone cooks Drasko in the next ep ...\n",
       "3     racism  of course you were born in serbia...you're as ...\n",
       "4     racism  These girls are the equivalent of the irritati..."
      ]
     },
     "execution_count": 6,
     "metadata": {},
     "output_type": "execute_result"
    }
   ],
   "source": [
    "dataframe.head()"
   ]
  },
  {
   "cell_type": "code",
   "execution_count": 10,
   "metadata": {},
   "outputs": [],
   "source": [
    "dataframe.to_csv('Twitter_Data.txt', index=False, encoding='utf-8')"
   ]
  },
  {
   "cell_type": "code",
   "execution_count": null,
   "metadata": {},
   "outputs": [],
   "source": [
    "dataframe[0:10]"
   ]
  },
  {
   "cell_type": "code",
   "execution_count": null,
   "metadata": {},
   "outputs": [],
   "source": []
  }
 ],
 "metadata": {
  "kernelspec": {
   "display_name": "Python 3",
   "language": "python",
   "name": "python3"
  },
  "language_info": {
   "codemirror_mode": {
    "name": "ipython",
    "version": 3
   },
   "file_extension": ".py",
   "mimetype": "text/x-python",
   "name": "python",
   "nbconvert_exporter": "python",
   "pygments_lexer": "ipython3",
   "version": "3.7.3"
  }
 },
 "nbformat": 4,
 "nbformat_minor": 2
}
